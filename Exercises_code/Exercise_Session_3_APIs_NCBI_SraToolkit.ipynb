{
 "cells": [
  {
   "cell_type": "markdown",
   "id": "7f6cea52-879d-41ad-896d-f758bb8ea32b",
   "metadata": {},
   "source": [
    "## Using NCBI APIs\n",
    "\n",
    "- Guillem Ylla"
   ]
  },
  {
   "cell_type": "markdown",
   "id": "6dd6193b-5da3-453d-aeaf-2848aa7121ff",
   "metadata": {},
   "source": [
    "### SRA Toolkit\n",
    "\n",
    "For downloading seqeuencing data (e.g. RNA-seq, DNA-seq, etc.)\n",
    "\n",
    "API work in **BASH**."
   ]
  },
  {
   "cell_type": "markdown",
   "id": "19490936-76a3-4663-b099-e2f311577934",
   "metadata": {},
   "source": [
    "### Find data in NCBI-SRA\n",
    "\n",
    "-  Identify datset of interest in NCBI-SRA.\n",
    "-  Look for the SRR identifier\n",
    "\n",
    "- Example: https://www.ncbi.nlm.nih.gov/sra/SRX9773242[accn]\n",
    "    - SRR=  SRR13347097\n",
    "\n"
   ]
  },
  {
   "cell_type": "markdown",
   "id": "78fadb73-18a1-4bb3-8b06-7e8c502ec2ad",
   "metadata": {},
   "source": [
    "Prefetch (download) the data"
   ]
  },
  {
   "cell_type": "code",
   "execution_count": 4,
   "id": "a1dade65-184e-4dbb-a951-c58d47dee5c7",
   "metadata": {},
   "outputs": [
    {
     "name": "stdout",
     "output_type": "stream",
     "text": [
      "\n"
     ]
    },
    {
     "name": "stderr",
     "output_type": "stream",
     "text": [
      "2024-02-24T22:31:59 prefetch.3.0.3: Current preference is set to retrieve SRA Normalized Format files with full base quality scores.\n",
      "2024-02-24T22:32:00 prefetch.3.0.3: 1) Downloading 'SRR13347097'...\n",
      "2024-02-24T22:32:00 prefetch.3.0.3: SRA Normalized Format file is being retrieved, if this is different from your preference, it may be due to current file availability.\n",
      "2024-02-24T22:32:00 prefetch.3.0.3:  Downloading via HTTPS...\n",
      "2024-02-24T22:32:03 prefetch.3.0.3:  HTTPS download succeed\n",
      "2024-02-24T22:32:03 prefetch.3.0.3:  'SRR13347097' is valid\n",
      "2024-02-24T22:32:03 prefetch.3.0.3: 1) 'SRR13347097' was downloaded successfully\n",
      "2024-02-24T22:32:03 prefetch.3.0.3: 'SRR13347097' has 0 unresolved dependencies\n"
     ]
    }
   ],
   "source": [
    "%%bash\n",
    "\n",
    "prefetch  SRR13347097 "
   ]
  },
  {
   "cell_type": "markdown",
   "id": "57ccbfd5-25df-427c-89df-8aa858787eed",
   "metadata": {},
   "source": [
    "Check integrity"
   ]
  },
  {
   "cell_type": "code",
   "execution_count": 5,
   "id": "2354929c-ff2b-4f0d-a6c9-8bde545ee808",
   "metadata": {},
   "outputs": [
    {
     "name": "stderr",
     "output_type": "stream",
     "text": [
      "2024-02-24T22:32:08 vdb-validate.3.0.3 info: Database 'SRR13347097.sra' metadata: md5 ok\n",
      "2024-02-24T22:32:08 vdb-validate.3.0.3 info: Table 'SEQUENCE' metadata: md5 ok\n",
      "2024-02-24T22:32:08 vdb-validate.3.0.3 info: Column 'ALTREAD': checksums ok\n",
      "2024-02-24T22:32:08 vdb-validate.3.0.3 info: Column 'QUALITY': checksums ok\n",
      "2024-02-24T22:32:08 vdb-validate.3.0.3 info: Column 'READ': checksums ok\n",
      "2024-02-24T22:32:08 vdb-validate.3.0.3 info: Database '/home/minidell/Documents/AT4BR_GitHub/Exercises_code/SRR13347097/SRR13347097.sra' contains only unaligned reads\n",
      "2024-02-24T22:32:08 vdb-validate.3.0.3 info: Database 'SRR13347097.sra' is consistent\n"
     ]
    }
   ],
   "source": [
    "%%bash\n",
    "\n",
    "vdb-validate SRR13347097"
   ]
  },
  {
   "cell_type": "code",
   "execution_count": 8,
   "id": "7ede01cc-b81e-48a1-bcae-2ffdbfc758e9",
   "metadata": {},
   "outputs": [
    {
     "name": "stdout",
     "output_type": "stream",
     "text": [
      "Rejected 105164 READS because READLEN < 1\n",
      "Read 105164 spots for SRR13347097\n",
      "Written 105164 spots for SRR13347097\n"
     ]
    }
   ],
   "source": [
    "%%bash\n",
    "\n",
    "#fasterq-dump --split-3 SRR13347097\n",
    "fastq-dump --split-files SRR13347097\n"
   ]
  }
 ],
 "metadata": {
  "kernelspec": {
   "display_name": "Python 3 (ipykernel)",
   "language": "python",
   "name": "python3"
  },
  "language_info": {
   "codemirror_mode": {
    "name": "ipython",
    "version": 3
   },
   "file_extension": ".py",
   "mimetype": "text/x-python",
   "name": "python",
   "nbconvert_exporter": "python",
   "pygments_lexer": "ipython3",
   "version": "3.8.10"
  }
 },
 "nbformat": 4,
 "nbformat_minor": 5
}
