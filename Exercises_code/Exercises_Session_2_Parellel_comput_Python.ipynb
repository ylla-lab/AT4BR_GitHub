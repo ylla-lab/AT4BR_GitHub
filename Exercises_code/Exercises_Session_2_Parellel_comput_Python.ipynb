{
 "cells": [
  {
   "cell_type": "code",
   "execution_count": 8,
   "id": "b2b8e079",
   "metadata": {},
   "outputs": [],
   "source": [
    "import multiprocessing\n",
    "from multiprocessing import Pool\n",
    "import time\n",
    "import random"
   ]
  },
  {
   "cell_type": "markdown",
   "id": "cd15f1ce",
   "metadata": {},
   "source": [
    "Creta a large matrix of random number"
   ]
  },
  {
   "cell_type": "code",
   "execution_count": 53,
   "id": "526a2484",
   "metadata": {},
   "outputs": [],
   "source": [
    "# Define the dimensions of the matrix (rows x columns)\n",
    "rows = 5000\n",
    "columns = 10000\n",
    "\n",
    "random_matrix = []\n",
    "for i in range(rows):\n",
    "    row = []\n",
    "    for j in range(columns):\n",
    "        row.append(random.random())\n",
    "    random_matrix.append(row)"
   ]
  },
  {
   "cell_type": "markdown",
   "id": "11231a48",
   "metadata": {},
   "source": [
    "Define a function that given a list of numbers calcualtes the row mean, row sum, row max, and row min."
   ]
  },
  {
   "cell_type": "code",
   "execution_count": 131,
   "id": "812a518a",
   "metadata": {},
   "outputs": [],
   "source": [
    "def calculations(row): # define function that given matrix calculates row mean, row sum, row max, and row min\n",
    "    # list where to store the means, sums, maxs, and mins of the columns\n",
    "    row_means=[]\n",
    "    row_sums = []\n",
    "    row_maxs = []\n",
    "    row_mins = []\n",
    "    sort_row=sorted(row) # let's sort the row (just to put a time cosnuming operation)\n",
    "    row_mean = sum(row)/len(row)\n",
    "    row_means.append(row_mean)\n",
    "    row_sum = sum(row)\n",
    "    row_sums.append(row_sum)\n",
    "    row_max = max(row)\n",
    "    row_maxs.append(row_max)\n",
    "    row_min = min(row)\n",
    "    row_mins.append(row_min)\n",
    "    return(row_means, row_sums,row_maxs ,row_mins ) # return the list of calculated values"
   ]
  },
  {
   "cell_type": "code",
   "execution_count": 132,
   "id": "1e33f781",
   "metadata": {},
   "outputs": [
    {
     "name": "stdout",
     "output_type": "stream",
     "text": [
      "Time elasped (in seconds): 5.59290337562561\n"
     ]
    }
   ],
   "source": [
    "start_time = time.time() # let's take intitial time from system clock\n",
    "\n",
    "Results1=[]\n",
    "for row in random_matrix: # for each row of random_matrix\n",
    "    Results1.append(calculations(row)) # run function to calculate mean, sums, maxs, mins\n",
    "\n",
    "time_elapsed_1=time.time() - start_time # let's take time form clock, and rest from start time\n",
    "\n",
    "print(\"Time elasped (in seconds):\",time_elapsed_1)\n"
   ]
  },
  {
   "cell_type": "markdown",
   "id": "ef2a66d6",
   "metadata": {},
   "source": [
    "Alternative way tot ime a cell in Jupyter using the magic command %%time."
   ]
  },
  {
   "cell_type": "code",
   "execution_count": 133,
   "id": "06eb75b7",
   "metadata": {},
   "outputs": [
    {
     "name": "stdout",
     "output_type": "stream",
     "text": [
      "CPU times: user 4.94 s, sys: 352 µs, total: 4.94 s\n",
      "Wall time: 4.94 s\n"
     ]
    }
   ],
   "source": [
    "%%time\n",
    "\n",
    "Results1=[]\n",
    "for row in random_matrix: # for each row of random_matrix\n",
    "    Results1.append(calculations(row)) # run function to calculate mean, sums, maxs, mins\n"
   ]
  },
  {
   "cell_type": "markdown",
   "id": "b2884ca8",
   "metadata": {},
   "source": [
    "## Parallelize with multiprocessing\n",
    "\n",
    "We will use the multiprocessing package "
   ]
  },
  {
   "cell_type": "code",
   "execution_count": 136,
   "id": "4a888f84",
   "metadata": {},
   "outputs": [],
   "source": [
    "CPU_Pool_1 = Pool(1) # start with 1 core"
   ]
  },
  {
   "cell_type": "code",
   "execution_count": 137,
   "id": "f4ff7ae5",
   "metadata": {},
   "outputs": [
    {
     "name": "stdout",
     "output_type": "stream",
     "text": [
      "CPU times: user 705 ms, sys: 275 ms, total: 980 ms\n",
      "Wall time: 7.17 s\n"
     ]
    }
   ],
   "source": [
    "%%time\n",
    "\n",
    "Results2 = CPU_Pool_1.map(calculations, random_matrix) "
   ]
  },
  {
   "cell_type": "code",
   "execution_count": 138,
   "id": "c3c61c03",
   "metadata": {},
   "outputs": [],
   "source": [
    "CPU_Pool_4 = Pool(4) # defene number of cores to 4"
   ]
  },
  {
   "cell_type": "code",
   "execution_count": 139,
   "id": "cab0bcdf",
   "metadata": {},
   "outputs": [
    {
     "name": "stdout",
     "output_type": "stream",
     "text": [
      "CPU times: user 1.27 s, sys: 174 ms, total: 1.44 s\n",
      "Wall time: 2.66 s\n"
     ]
    }
   ],
   "source": [
    "%%time\n",
    "\n",
    "Results3 = CPU_Pool_4.map(calculations, random_matrix) "
   ]
  },
  {
   "cell_type": "code",
   "execution_count": 140,
   "id": "9805ca77",
   "metadata": {},
   "outputs": [],
   "source": [
    "CPU_Pool_8 = Pool(8) "
   ]
  },
  {
   "cell_type": "code",
   "execution_count": 141,
   "id": "6f344130",
   "metadata": {},
   "outputs": [
    {
     "name": "stdout",
     "output_type": "stream",
     "text": [
      "CPU times: user 932 ms, sys: 188 ms, total: 1.12 s\n",
      "Wall time: 1.69 s\n"
     ]
    }
   ],
   "source": [
    "%%time\n",
    "Results4 = CPU_Pool_8.map(calculations, random_matrix) \n"
   ]
  },
  {
   "cell_type": "markdown",
   "id": "36a47450",
   "metadata": {},
   "source": [
    "Use all available threads:"
   ]
  },
  {
   "cell_type": "code",
   "execution_count": 142,
   "id": "5e01a701",
   "metadata": {},
   "outputs": [
    {
     "name": "stdout",
     "output_type": "stream",
     "text": [
      "CPUs in my computer:  16\n"
     ]
    }
   ],
   "source": [
    "print(\"CPUs in my computer: \", multiprocessing.cpu_count() )\n",
    "\n",
    "CPU_Pool_all = Pool(multiprocessing.cpu_count())\n"
   ]
  },
  {
   "cell_type": "code",
   "execution_count": 143,
   "id": "6e175294",
   "metadata": {},
   "outputs": [
    {
     "name": "stdout",
     "output_type": "stream",
     "text": [
      "CPU times: user 996 ms, sys: 139 ms, total: 1.13 s\n",
      "Wall time: 1.41 s\n"
     ]
    }
   ],
   "source": [
    "%%time\n",
    "Results5 = CPU_Pool_all.map(calculations, random_matrix) "
   ]
  }
 ],
 "metadata": {
  "kernelspec": {
   "display_name": "Python 3 (ipykernel)",
   "language": "python",
   "name": "python3"
  },
  "language_info": {
   "codemirror_mode": {
    "name": "ipython",
    "version": 3
   },
   "file_extension": ".py",
   "mimetype": "text/x-python",
   "name": "python",
   "nbconvert_exporter": "python",
   "pygments_lexer": "ipython3",
   "version": "3.8.10"
  }
 },
 "nbformat": 4,
 "nbformat_minor": 5
}
