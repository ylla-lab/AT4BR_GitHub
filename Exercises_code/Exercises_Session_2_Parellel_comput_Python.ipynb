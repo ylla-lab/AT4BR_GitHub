{
 "cells": [
  {
   "cell_type": "code",
   "execution_count": 1,
   "id": "2c4078f5",
   "metadata": {},
   "outputs": [],
   "source": [
    "import multiprocessing\n",
    "from multiprocessing import Pool\n",
    "import time\n",
    "import random"
   ]
  },
  {
   "cell_type": "markdown",
   "id": "1de48d96",
   "metadata": {},
   "source": [
    "Creta a large matrix of random number"
   ]
  },
  {
   "cell_type": "code",
   "execution_count": 2,
   "id": "eff7aa65",
   "metadata": {},
   "outputs": [],
   "source": [
    "# Define the dimensions of the matrix (rows x columns)\n",
    "rows = 5000\n",
    "columns = 10000\n",
    "\n",
    "random_matrix = []\n",
    "for i in range(rows):\n",
    "    row = []\n",
    "    for j in range(columns):\n",
    "        row.append(random.random())\n",
    "    random_matrix.append(row)"
   ]
  },
  {
   "cell_type": "markdown",
   "id": "c6e8282a",
   "metadata": {},
   "source": [
    "Define a function that given a list of numbers calcualtes the row mean, row sum, row max, and row min."
   ]
  },
  {
   "cell_type": "code",
   "execution_count": 3,
   "id": "57f72cd1",
   "metadata": {},
   "outputs": [],
   "source": [
    "def calculations(row): # define function that given matrix calculates row mean, row sum, row max, and row min\n",
    "    # list where to store the means, sums, maxs, and mins of the columns\n",
    "    row_means=[]\n",
    "    row_sums = []\n",
    "    row_maxs = []\n",
    "    row_mins = []\n",
    "    sort_row=sorted(row) # let's sort the row (just to put a time cosnuming operation)\n",
    "    row_mean = sum(row)/len(row)\n",
    "    row_means.append(row_mean)\n",
    "    row_sum = sum(row)\n",
    "    row_sums.append(row_sum)\n",
    "    row_max = max(row)\n",
    "    row_maxs.append(row_max)\n",
    "    row_min = min(row)\n",
    "    row_mins.append(row_min)\n",
    "    return(row_means, row_sums,row_maxs ,row_mins ) # return the list of calculated values"
   ]
  },
  {
   "cell_type": "code",
   "execution_count": 4,
   "id": "74940507",
   "metadata": {},
   "outputs": [
    {
     "name": "stdout",
     "output_type": "stream",
     "text": [
      "Time elasped (in seconds): 4.988119125366211\n"
     ]
    }
   ],
   "source": [
    "start_time = time.time() # let's take intitial time from system clock\n",
    "\n",
    "Results1=[]\n",
    "for row in random_matrix: # for each row of random_matrix\n",
    "    Results1.append(calculations(row)) # run function to calculate mean, sums, maxs, mins\n",
    "\n",
    "time_elapsed_1=time.time() - start_time # let's take time form clock, and rest from start time\n",
    "\n",
    "print(\"Time elasped (in seconds):\",time_elapsed_1)\n"
   ]
  },
  {
   "cell_type": "markdown",
   "id": "114246c5",
   "metadata": {},
   "source": [
    "Alternative way tot ime a cell in Jupyter using the magic command %%time."
   ]
  },
  {
   "cell_type": "code",
   "execution_count": 5,
   "id": "86695b33",
   "metadata": {},
   "outputs": [
    {
     "name": "stdout",
     "output_type": "stream",
     "text": [
      "CPU times: user 5.19 s, sys: 0 ns, total: 5.19 s\n",
      "Wall time: 5.19 s\n"
     ]
    }
   ],
   "source": [
    "%%time\n",
    "\n",
    "Results1=[]\n",
    "for row in random_matrix: # for each row of random_matrix\n",
    "    Results1.append(calculations(row)) # run function to calculate mean, sums, maxs, mins\n"
   ]
  },
  {
   "cell_type": "markdown",
   "id": "ca9b2b49",
   "metadata": {},
   "source": [
    "## Parallelize with multiprocessing\n",
    "\n",
    "We will use the multiprocessing package "
   ]
  },
  {
   "cell_type": "code",
   "execution_count": 6,
   "id": "0b2e4ba8",
   "metadata": {},
   "outputs": [],
   "source": [
    "CPU_Pool_1 = Pool(1) # start with 1 core"
   ]
  },
  {
   "cell_type": "code",
   "execution_count": 7,
   "id": "1c9ce7e6",
   "metadata": {},
   "outputs": [
    {
     "name": "stdout",
     "output_type": "stream",
     "text": [
      "CPU times: user 817 ms, sys: 252 ms, total: 1.07 s\n",
      "Wall time: 7.96 s\n"
     ]
    }
   ],
   "source": [
    "%%time\n",
    "\n",
    "Results2 = CPU_Pool_1.map(calculations, random_matrix) "
   ]
  },
  {
   "cell_type": "code",
   "execution_count": 8,
   "id": "adfd1182",
   "metadata": {},
   "outputs": [],
   "source": [
    "CPU_Pool_4 = Pool(4) # defene number of cores to 4"
   ]
  },
  {
   "cell_type": "code",
   "execution_count": 9,
   "id": "da88cda7",
   "metadata": {},
   "outputs": [
    {
     "name": "stdout",
     "output_type": "stream",
     "text": [
      "CPU times: user 904 ms, sys: 149 ms, total: 1.05 s\n",
      "Wall time: 2.63 s\n"
     ]
    }
   ],
   "source": [
    "%%time\n",
    "\n",
    "Results3 = CPU_Pool_4.map(calculations, random_matrix) "
   ]
  },
  {
   "cell_type": "code",
   "execution_count": 10,
   "id": "ed73984e",
   "metadata": {},
   "outputs": [],
   "source": [
    "CPU_Pool_8 = Pool(8) "
   ]
  },
  {
   "cell_type": "code",
   "execution_count": 11,
   "id": "9a6d7078",
   "metadata": {},
   "outputs": [
    {
     "name": "stdout",
     "output_type": "stream",
     "text": [
      "CPU times: user 1.02 s, sys: 185 ms, total: 1.21 s\n",
      "Wall time: 1.64 s\n"
     ]
    }
   ],
   "source": [
    "%%time\n",
    "Results4 = CPU_Pool_8.map(calculations, random_matrix) \n"
   ]
  },
  {
   "cell_type": "markdown",
   "id": "e5f91bc9",
   "metadata": {},
   "source": [
    "Use all available threads:"
   ]
  },
  {
   "cell_type": "code",
   "execution_count": 12,
   "id": "44e00613",
   "metadata": {},
   "outputs": [
    {
     "name": "stdout",
     "output_type": "stream",
     "text": [
      "CPUs in my computer:  16\n"
     ]
    }
   ],
   "source": [
    "print(\"CPUs in my computer: \", multiprocessing.cpu_count() )\n",
    "\n",
    "CPU_Pool_all = Pool(multiprocessing.cpu_count())\n"
   ]
  },
  {
   "cell_type": "code",
   "execution_count": 14,
   "id": "5959775b",
   "metadata": {},
   "outputs": [
    {
     "name": "stdout",
     "output_type": "stream",
     "text": [
      "CPU times: user 1.13 s, sys: 177 ms, total: 1.31 s\n",
      "Wall time: 1.55 s\n"
     ]
    }
   ],
   "source": [
    "%%time\n",
    "Results5 = CPU_Pool_all.map(calculations, random_matrix) "
   ]
  }
 ],
 "metadata": {
  "kernelspec": {
   "display_name": "Python 3 (ipykernel)",
   "language": "python",
   "name": "python3"
  },
  "language_info": {
   "codemirror_mode": {
    "name": "ipython",
    "version": 3
   },
   "file_extension": ".py",
   "mimetype": "text/x-python",
   "name": "python",
   "nbconvert_exporter": "python",
   "pygments_lexer": "ipython3",
   "version": "3.8.10"
  }
 },
 "nbformat": 4,
 "nbformat_minor": 5
}
