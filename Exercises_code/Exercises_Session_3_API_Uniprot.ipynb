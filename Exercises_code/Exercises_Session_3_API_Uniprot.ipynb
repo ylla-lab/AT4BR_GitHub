{
 "cells": [
  {
   "cell_type": "markdown",
   "id": "e509c59e-19ef-4097-9b92-a38e0304c0e4",
   "metadata": {},
   "source": [
    "## Using UniProt API\n",
    "\n",
    "- Guillem Ylla\n",
    "\n",
    "- Links of interest:\n",
    "    - https://www.uniprot.org/help/programmatic_access\n",
    "    - https://www.uniprot.org/help/api_queries\n",
    "    - https://www.ebi.ac.uk/proteins/api/doc/\n",
    "\n"
   ]
  },
  {
   "cell_type": "markdown",
   "id": "804c3e9f-04a4-40fc-9089-36bae9bef565",
   "metadata": {},
   "source": [
    "### Get the fasta of your proteins of interest with Website query"
   ]
  },
  {
   "cell_type": "markdown",
   "id": "23994947-812a-4ed7-af7f-c3d2e3324ba4",
   "metadata": {},
   "source": [
    "1. Make a query on UNIPROT website: https://www.uniprot.org/uniprotkb?query=*\n",
    "    - For example \"actin\", and put filters (for example, select human)\n",
    "2. Click Download -> URL for API -> Compressed NO -> copy URL of the query\n",
    "    - For previous example is: https://rest.uniprot.org/uniprotkb/stream?compressed=true&format=fasta&query=%28actin%29+AND+%28model_organism%3A9606%29"
   ]
  },
  {
   "cell_type": "code",
   "execution_count": 2,
   "id": "7c3db9ac-39c1-400b-a104-6ef63606d6b5",
   "metadata": {},
   "outputs": [],
   "source": [
    "import requests\n",
    "import re\n",
    "import json"
   ]
  },
  {
   "cell_type": "code",
   "execution_count": null,
   "id": "3c9797d7-fa10-450b-acbf-f7fe59305bc2",
   "metadata": {},
   "outputs": [],
   "source": [
    "url = 'https://rest.uniprot.org/uniprotkb/stream?format=fasta&query=%28actin%29+AND+%28model_organism%3A9606%29'  # put the URL of the query here"
   ]
  },
  {
   "cell_type": "code",
   "execution_count": null,
   "id": "d31c1ba2-a369-403c-865a-d9e9166e58a1",
   "metadata": {},
   "outputs": [],
   "source": [
    "Query = requests.get(url).text # make the query to Uniprot"
   ]
  },
  {
   "cell_type": "code",
   "execution_count": null,
   "id": "e6e9907f-3abf-4b01-aab3-9bc698c4c4fe",
   "metadata": {},
   "outputs": [],
   "source": [
    "type(Query) # string with fasta file of all selected proteins"
   ]
  },
  {
   "cell_type": "code",
   "execution_count": null,
   "id": "aea043fc-729c-41a3-9174-d3c3f4f7a820",
   "metadata": {},
   "outputs": [],
   "source": [
    "fasta_list = re.split(r'\\n(?=>)', Query)\n",
    "len(fasta_list)"
   ]
  },
  {
   "cell_type": "code",
   "execution_count": null,
   "id": "804fcfbb-0317-4ab3-a4b8-4af9d866d141",
   "metadata": {},
   "outputs": [],
   "source": [
    "#fasta_list\n",
    "fasta_list[1:5]"
   ]
  },
  {
   "cell_type": "markdown",
   "id": "0ab3e85d-79b3-4601-8603-db357379eac7",
   "metadata": {
    "tags": []
   },
   "source": [
    "### Get Proteins info from list of Uniprot IDs\n",
    "\n",
    "https://www.ebi.ac.uk/proteins/api/doc/ "
   ]
  },
  {
   "cell_type": "markdown",
   "id": "d5ce417e-9cd8-449a-b13a-ffd0ef839d8d",
   "metadata": {},
   "source": [
    "#### Given a protein ID get information (i.e. GO terms)"
   ]
  },
  {
   "cell_type": "code",
   "execution_count": null,
   "id": "ef43224b-ec92-4c3f-bcb0-f15ee7212666",
   "metadata": {},
   "outputs": [],
   "source": [
    "protID=\"P0CY46\""
   ]
  },
  {
   "cell_type": "code",
   "execution_count": null,
   "id": "c192d4df-2f5e-45ca-aa0b-841811b766f7",
   "metadata": {},
   "outputs": [],
   "source": [
    "url_2=\"https://www.ebi.ac.uk/proteins/api/proteins?&accession=\"+protID\n",
    "print(url_2)"
   ]
  },
  {
   "cell_type": "code",
   "execution_count": null,
   "id": "9450fa63-7c9e-4d80-8249-d2822d7a99df",
   "metadata": {},
   "outputs": [],
   "source": [
    "Query_2= requests.get(url_2, headers={ \"Accept\" : \"application/json\"}) # make the query to NCBI"
   ]
  },
  {
   "cell_type": "code",
   "execution_count": null,
   "id": "a5906652-9d96-405f-884d-9dbf04b3a832",
   "metadata": {},
   "outputs": [],
   "source": [
    "print(Query_2.status_code)"
   ]
  },
  {
   "cell_type": "code",
   "execution_count": null,
   "id": "a1d57eb4-2b85-4fd6-8b4d-541e98b38daf",
   "metadata": {},
   "outputs": [],
   "source": [
    "Query_2.json()"
   ]
  },
  {
   "cell_type": "code",
   "execution_count": null,
   "id": "6f497b74-13a0-425d-9981-ab979792e108",
   "metadata": {},
   "outputs": [],
   "source": [
    "Query_json=Query_2.json()\n",
    "type(Query_json)"
   ]
  },
  {
   "cell_type": "code",
   "execution_count": null,
   "id": "37e9b344-fe11-4f9a-85fe-bb488af1f7d1",
   "metadata": {},
   "outputs": [],
   "source": [
    "Query_json[0] ## see all the inforamtion for the protein"
   ]
  },
  {
   "cell_type": "code",
   "execution_count": null,
   "id": "4f4e7e2b-3320-479c-8936-ae0682c4d7cc",
   "metadata": {},
   "outputs": [],
   "source": [
    "Query_json[0][\"accession\"]"
   ]
  },
  {
   "cell_type": "code",
   "execution_count": null,
   "id": "7ecfe73e",
   "metadata": {},
   "outputs": [],
   "source": [
    "Query_json[0][\"id\"]"
   ]
  },
  {
   "cell_type": "code",
   "execution_count": null,
   "id": "d8ba17e0",
   "metadata": {},
   "outputs": [],
   "source": [
    "Query_json[0][\"gene\"]"
   ]
  },
  {
   "cell_type": "code",
   "execution_count": null,
   "id": "c34a0425-fda5-40c3-b52b-83518ae18266",
   "metadata": {},
   "outputs": [],
   "source": [
    "#Query_json[0][\"dbReferences\"]\n",
    "for i in Query_json[0][\"dbReferences\"]:\n",
    "    #print(i)\n",
    "    if i[\"type\"] ==\"GO\":\n",
    "        print(i[\"id\"],i[\"properties\"][\"term\"] )\n",
    " \n"
   ]
  },
  {
   "cell_type": "code",
   "execution_count": null,
   "id": "a1e63267-bab5-4ad0-9aa6-b76cfca9f372",
   "metadata": {},
   "outputs": [],
   "source": [
    "#Query_json[0][\"dbReferences\"]\n",
    "for i in Query_json[0][\"dbReferences\"]:\n",
    "    #print(i)\n",
    "    if i[\"type\"] ==\"PROSITE\":\n",
    "        print(i[\"id\"] ,i[\"properties\"][\"entry name\"] )\n",
    " \n"
   ]
  },
  {
   "cell_type": "markdown",
   "id": "8787d30e-ad0d-455c-805f-7997963f1797",
   "metadata": {},
   "source": [
    "#### Given a list of protein IDs get information (i.e. PROSITE domains)\n",
    "\n",
    "**Option 1:** iterate over the previous code."
   ]
  },
  {
   "cell_type": "code",
   "execution_count": null,
   "id": "f06b2311-3901-4df5-94ea-5be534d6bdc7",
   "metadata": {},
   "outputs": [],
   "source": [
    "listIDs=[\"P0CY46\", \"P00533\", \"Q29537\" ]\n",
    "\n",
    "for ID in listIDs:\n",
    "    print(ID)\n",
    "    url_3=\"https://www.ebi.ac.uk/proteins/api/proteins?&accession=\"+ID\n",
    "    Query_3= requests.get(url_3, headers={ \"Accept\" : \"application/json\"}).json() # make the query to NCBI\n",
    "    for i in Query_3[0][\"dbReferences\"]:\n",
    "        #print(i)\n",
    "        if i[\"type\"] ==\"PROSITE\":\n",
    "                print(\"\\t\",i[\"id\"], i[\"properties\"][\"entry name\"] )"
   ]
  },
  {
   "cell_type": "markdown",
   "id": "ab4a6cda",
   "metadata": {},
   "source": [
    "**Option 2 (Recommended):** Query mutiple prots, and iterate over returned output"
   ]
  },
  {
   "cell_type": "code",
   "execution_count": 3,
   "id": "6f9fdaef",
   "metadata": {},
   "outputs": [
    {
     "name": "stdout",
     "output_type": "stream",
     "text": [
      "https://www.ebi.ac.uk/proteins/api/proteins?&accession=P0CY46,P00533,Q29537,Q9VKM1\n"
     ]
    }
   ],
   "source": [
    "listID=[\"P0CY46\", \"P00533\", \"Q29537\",\"Q9VKM1\" ]\n",
    "\n",
    "url_4=\"https://www.ebi.ac.uk/proteins/api/proteins?&accession=\"+str.join(\",\",listID)\n",
    "\n",
    "print(url_4)\n",
    "\n",
    "Query_4= requests.get(url_4, headers={ \"Accept\" : \"application/json\"}).json() # make the query to NCBI\n"
   ]
  },
  {
   "cell_type": "code",
   "execution_count": 4,
   "id": "f81a9d08",
   "metadata": {
    "scrolled": true
   },
   "outputs": [
    {
     "data": {
      "text/plain": [
       "4"
      ]
     },
     "execution_count": 4,
     "metadata": {},
     "output_type": "execute_result"
    }
   ],
   "source": [
    "len(Query_4)"
   ]
  },
  {
   "cell_type": "code",
   "execution_count": 5,
   "id": "ea5af0a2",
   "metadata": {},
   "outputs": [
    {
     "name": "stdout",
     "output_type": "stream",
     "text": [
      "P00533\n",
      "P0CY46\n",
      "Q29537\n",
      "Q9VKM1\n"
     ]
    }
   ],
   "source": [
    "for query in Query_4:\n",
    "    print(query[\"accession\"])"
   ]
  },
  {
   "cell_type": "code",
   "execution_count": null,
   "id": "91359dd1",
   "metadata": {},
   "outputs": [],
   "source": [
    "#query\n"
   ]
  },
  {
   "cell_type": "code",
   "execution_count": 6,
   "id": "b3442a90",
   "metadata": {},
   "outputs": [
    {
     "name": "stdout",
     "output_type": "stream",
     "text": [
      "P00533 EGFR_HUMAN Human GO:0016324;GO:0009925;GO:0016323;GO:0030054;GO:0009986;GO:0030669;GO:0005737;GO:0031901;GO:0005789;GO:0005768;GO:0010008;GO:0005615;GO:0005925;GO:0000139;GO:0097708;GO:0016020;GO:0045121;GO:0097489;GO:0031965;GO:0005634;GO:0048471;GO:0005886;GO:0032991;GO:0043235;GO:0032587;GO:0070435;GO:0051015;GO:0005524;GO:0051117;GO:0045296;GO:0005516;GO:0003682;GO:0003690;GO:0019899;GO:0048408;GO:0005006;GO:0042802;GO:0005178;GO:0019900;GO:0004709;GO:0019901;GO:0019903;GO:0030296;GO:0004713;GO:0030297;GO:0004714;GO:0004888;GO:0031625;GO:0001618;GO:0007202;GO:0048143;GO:0007166;GO:0098609;GO:0071230;GO:0071276;GO:0071549;GO:0071364;GO:0071392;GO:0071260;GO:0034614;GO:0071466;GO:0021795;GO:0007623;GO:0048546;GO:0016101;GO:0001892;GO:0007173;GO:0050673;GO:0038134;GO:0061029;GO:0001942;GO:0042743;GO:0007611;GO:0097421;GO:0030324;GO:0007494;GO:0060571;GO:0043066;GO:1905208;GO:0042059;GO:0045930;GO:0042177;GO:0022008;GO:0048812;GO:0001503;GO:0042698;GO:0038083;GO:0018108;GO:0045780;GO:0090263;GO:0030307;GO:0030335;GO:0008284;GO:0045737;GO:0045739;GO:0045740;GO:0045893;GO:0050679;GO:0070374;GO:0048146;GO:1900087;GO:0060252;GO:0043406;GO:1902895;GO:0070257;GO:0010750;GO:1901224;GO:0033138;GO:0051897;GO:0042327;GO:1902722;GO:1900020;GO:1903078;GO:0001934;GO:0048661;GO:0032930;GO:0051968;GO:0045944;GO:0045907;GO:0046777;GO:0051205;GO:0070372;GO:0046328;GO:0050999;GO:0050730;GO:0051896;GO:0051592;GO:0033590;GO:0033594;GO:0070141;GO:0007435;GO:0007165;GO:0043586;GO:0006412;GO:0007169;GO:0042311 \n",
      "\n",
      "P0CY46 EGFR_APIME Honeybee GO:0098590;GO:0005524;GO:0004714;GO:0038127;GO:0016310;GO:0042127;GO:0000003 \n",
      "\n",
      "Q29537 P53_CANLF Dog GO:0005813;GO:0005737;GO:0005783;GO:0005759;GO:0005739;GO:0005730;GO:0005634;GO:0016605;GO:0036310;GO:0005507;GO:0003677;GO:0000981;GO:1990841;GO:0000978;GO:0007049;GO:0090398;GO:0048512;GO:0006974;GO:0043153;GO:0030308;GO:0045892;GO:0006289;GO:0097252;GO:0043065;GO:2001244;GO:0045944;GO:0051262;GO:0006357 \n",
      "\n",
      "Q9VKM1 PIWI_DROME Fruit fly GO:0000785;GO:0010369;GO:0005737;GO:0005829;GO:0000791;GO:0043073;GO:0000792;GO:0005739;GO:0005654;GO:0005634;GO:0043186;GO:0032991;GO:0070725;GO:0031490;GO:0046872;GO:0034584;GO:0003723;GO:0004521;GO:0048132;GO:0030718;GO:0007294;GO:0031507;GO:0048133;GO:0048477;GO:0140966;GO:0141006;GO:0007279;GO:0090309;GO:0060213;GO:0016441;GO:0140990;GO:0031047;GO:0010526;GO:0141005;GO:0007283 \n",
      "\n"
     ]
    }
   ],
   "source": [
    "for query in Query_4:# iterate for each queried protein\n",
    "    accession=query[\"accession\"]\n",
    "    protid=query[\"id\"]\n",
    "    species=[]\n",
    "    for i in query[\"organism\"][\"names\"]:#contains a list, it means that there might be diferent elements, let's iterate\n",
    "        species=i[\"value\"]\n",
    "    GOlist=[]\n",
    "    for functDB in query[\"dbReferences\"]:# for each fucntional datbase\n",
    "        if functDB[\"type\"] ==\"GO\":\n",
    "            GOlist.append(functDB[\"id\"])\n",
    "    print(accession, protid, species, str.join(\";\",GOlist),\"\\n\" )\n"
   ]
  }
 ],
 "metadata": {
  "kernelspec": {
   "display_name": "Python 3 (ipykernel)",
   "language": "python",
   "name": "python3"
  },
  "language_info": {
   "codemirror_mode": {
    "name": "ipython",
    "version": 3
   },
   "file_extension": ".py",
   "mimetype": "text/x-python",
   "name": "python",
   "nbconvert_exporter": "python",
   "pygments_lexer": "ipython3",
   "version": "3.8.10"
  }
 },
 "nbformat": 4,
 "nbformat_minor": 5
}
