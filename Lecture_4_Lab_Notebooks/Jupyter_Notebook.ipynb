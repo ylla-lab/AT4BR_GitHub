{
 "cells": [
  {
   "cell_type": "markdown",
   "id": "b1c3c4c2-dfa9-49bb-b440-ee79d0daf441",
   "metadata": {},
   "source": [
    "# Guillem Lab Notebook\n",
    "\n",
    "- Project: Teaching Jupyter\n",
    "- Date: 04/01/2024"
   ]
  },
  {
   "cell_type": "code",
   "execution_count": 1,
   "id": "9d156e7d-18d2-49bd-8ef4-da04a0a61db5",
   "metadata": {},
   "outputs": [],
   "source": [
    "# Import libraries\n",
    "import matplotlib.pyplot as plt \n",
    "import pandas\n",
    "import session_info"
   ]
  },
  {
   "cell_type": "markdown",
   "id": "1e881c7e-b203-489d-834e-7a1db45234a5",
   "metadata": {},
   "source": [
    "## Calculations in Python\n",
    "\n",
    "In the chunks below, I will do some Python calculations.\n"
   ]
  },
  {
   "cell_type": "code",
   "execution_count": 2,
   "id": "491a8aeb-01a5-4113-b683-7e3ec274128f",
   "metadata": {},
   "outputs": [],
   "source": [
    "A=3\n",
    "B=4\n",
    "C=6"
   ]
  },
  {
   "cell_type": "markdown",
   "id": "f8aeedcf-e5d0-418a-9237-4c578316c3cc",
   "metadata": {},
   "source": [
    "I want to know the sum of A "
   ]
  },
  {
   "cell_type": "code",
   "execution_count": 3,
   "id": "4b103660-ebeb-4c7a-a71f-9cfcf757fe5e",
   "metadata": {},
   "outputs": [
    {
     "data": {
      "text/plain": [
       "13"
      ]
     },
     "execution_count": 3,
     "metadata": {},
     "output_type": "execute_result"
    }
   ],
   "source": [
    "A+B+C"
   ]
  },
  {
   "cell_type": "markdown",
   "id": "927ce879-0fb1-4979-b840-851107b252fd",
   "metadata": {},
   "source": [
    "## Make a plot"
   ]
  },
  {
   "cell_type": "code",
   "execution_count": 4,
   "id": "84fd429a-5dc0-4eef-8cc0-917a7a765bfa",
   "metadata": {},
   "outputs": [],
   "source": [
    "Values = [A,B,C]\n",
    "Labels=[\"A\",\"B\",\"C\"]\n",
    "\n"
   ]
  },
  {
   "cell_type": "code",
   "execution_count": 5,
   "id": "56053c88-b2d4-478f-8571-66f58e75662d",
   "metadata": {},
   "outputs": [
    {
     "data": {
      "image/png": "[encoded data removed]",
      "text/plain": [
       "<Figure size 200x100 with 1 Axes>"
      ]
     },
     "metadata": {},
     "output_type": "display_data"
    }
   ],
   "source": [
    "fig = plt.figure(figsize = (2, 1))\n",
    "plt.bar( Labels, Values, color ='blue', \n",
    "        width = 0.4)\n",
    "plt.xlabel(\"Samples\")\n",
    "plt.ylabel(\"Values\")\n",
    "plt.show()"
   ]
  },
  {
   "cell_type": "markdown",
   "id": "303a298f-85fc-421f-82d5-549110c2269b",
   "metadata": {},
   "source": [
    "## Session Info"
   ]
  },
  {
   "cell_type": "code",
   "execution_count": 6,
   "id": "69c67e42-d203-45d1-bac8-d99d71f012ab",
   "metadata": {},
   "outputs": [
    {
     "data": {
      "text/html": [
       "<details>\n",
       "<summary>Click to view session information</summary>\n",
       "<pre>\n",
       "-----\n",
       "matplotlib          3.8.2\n",
       "pandas              2.1.2\n",
       "session_info        1.0.0\n",
       "-----\n",
       "</pre>\n",
       "<details>\n",
       "<summary>Click to view modules imported as dependencies</summary>\n",
       "<pre>\n",
       "PIL                 10.2.0\n",
       "anyio               NA\n",
       "arrow               1.2.3\n",
       "asttokens           NA\n",
       "attr                23.1.0\n",
       "babel               2.12.1\n",
       "backcall            0.2.0\n",
       "certifi             2023.05.07\n",
       "cffi                1.15.1\n",
       "chardet             4.0.0\n",
       "charset_normalizer  3.1.0\n",
       "comm                0.1.3\n",
       "cycler              0.12.1\n",
       "cython_runtime      NA\n",
       "dateutil            2.8.2\n",
       "debugpy             1.6.7\n",
       "decorator           5.1.1\n",
       "defusedxml          0.7.1\n",
       "executing           1.2.0\n",
       "fastjsonschema      NA\n",
       "fqdn                NA\n",
       "gi                  3.42.1\n",
       "gio                 NA\n",
       "glib                NA\n",
       "gobject             NA\n",
       "gtk                 NA\n",
       "idna                3.4\n",
       "ipykernel           6.23.1\n",
       "isoduration         NA\n",
       "jedi                0.18.2\n",
       "jinja2              3.1.2\n",
       "json5               NA\n",
       "jsonpointer         2.3\n",
       "jsonschema          4.17.3\n",
       "jupyter_events      0.6.3\n",
       "jupyter_server      2.5.0\n",
       "jupyterlab_server   2.22.1\n",
       "kiwisolver          1.4.5\n",
       "markupsafe          2.1.2\n",
       "matplotlib_inline   0.1.6\n",
       "mpl_toolkits        NA\n",
       "nbformat            5.8.0\n",
       "netifaces           0.11.0\n",
       "numpy               1.26.1\n",
       "packaging           23.1\n",
       "parso               0.8.3\n",
       "pexpect             4.8.0\n",
       "pickleshare         0.7.5\n",
       "pkg_resources       NA\n",
       "platformdirs        3.5.1\n",
       "prometheus_client   NA\n",
       "prompt_toolkit      3.0.38\n",
       "psutil              5.9.5\n",
       "ptyprocess          0.7.0\n",
       "pure_eval           0.2.2\n",
       "pydev_ipython       NA\n",
       "pydevconsole        NA\n",
       "pydevd              2.9.5\n",
       "pydevd_file_utils   NA\n",
       "pydevd_plugins      NA\n",
       "pydevd_tracing      NA\n",
       "pygments            2.15.1\n",
       "pyparsing           2.4.7\n",
       "pyrsistent          NA\n",
       "pythonjsonlogger    NA\n",
       "pytz                2023.3.post1\n",
       "requests            2.31.0\n",
       "rfc3339_validator   0.1.4\n",
       "rfc3986_validator   0.1.1\n",
       "send2trash          NA\n",
       "sitecustomize       NA\n",
       "six                 1.16.0\n",
       "sniffio             1.3.0\n",
       "stack_data          0.6.2\n",
       "tornado             6.3.2\n",
       "traitlets           5.9.0\n",
       "uri_template        NA\n",
       "urllib3             2.0.2\n",
       "wcwidth             0.2.6\n",
       "webcolors           1.13\n",
       "websocket           1.5.2\n",
       "yaml                5.4.1\n",
       "zmq                 25.0.2\n",
       "</pre>\n",
       "</details> <!-- seems like this ends pre, so might as well be explicit -->\n",
       "<pre>\n",
       "-----\n",
       "IPython             8.13.2\n",
       "jupyter_client      8.2.0\n",
       "jupyter_core        5.3.0\n",
       "jupyterlab          4.0.1\n",
       "-----\n",
       "Python 3.10.6 (main, Mar 10 2023, 10:55:28) [GCC 11.3.0]\n",
       "Linux-5.15.108-1-pve-x86_64-with-glibc2.35\n",
       "-----\n",
       "Session information updated at 2024-01-04 11:24\n",
       "</pre>\n",
       "</details>"
      ],
      "text/plain": [
       "<IPython.core.display.HTML object>"
      ]
     },
     "execution_count": 6,
     "metadata": {},
     "output_type": "execute_result"
    }
   ],
   "source": [
    "session_info.show()"
   ]
  }
 ],
 "metadata": {
  "kernelspec": {
   "display_name": "Python 3 (ipykernel)",
   "language": "python",
   "name": "python3"
  },
  "language_info": {
   "codemirror_mode": {
    "name": "ipython",
    "version": 3
   },
   "file_extension": ".py",
   "mimetype": "text/x-python",
   "name": "python",
   "nbconvert_exporter": "python",
   "pygments_lexer": "ipython3",
   "version": "3.10.6"
  }
 },
 "nbformat": 4,
 "nbformat_minor": 5
}
